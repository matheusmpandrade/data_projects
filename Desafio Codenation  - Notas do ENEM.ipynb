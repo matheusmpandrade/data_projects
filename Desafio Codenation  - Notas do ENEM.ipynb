{
 "cells": [
  {
   "cell_type": "markdown",
   "metadata": {},
   "source": [
    "# DESAFIO CODENATION - Notas do ENEM \n",
    "## por Matheus Andrade\n",
    "<hr style='border: 2px solid black;'>"
   ]
  },
  {
   "cell_type": "markdown",
   "metadata": {},
   "source": [
    "### Instruções da Codenation sobre o desafio\n"
   ]
  },
  {
   "cell_type": "markdown",
   "metadata": {},
   "source": [
    "Você deverá criar um modelo para prever a nota da prova de matemática de quem participou do ENEM 2016. \n",
    "\n",
    "## Tópicos\n",
    "\n",
    "Neste desafio você aprenderá:"
   ]
  },
  {
   "cell_type": "markdown",
   "metadata": {},
   "source": [
    "- Lógica\n",
    "- Análise de dados\n",
    "- Estatística\n",
    "- Regression\n",
    "\n",
    "## Detalhes\n",
    "\n",
    "O contexto do desafio gira em torno dos resultados do ENEM 2016 (disponíveis no arquivo train.csv). Este arquivo, e apenas ele, deve ser utilizado para todos os desafios. Qualquer dúvida a respeito das colunas, consulte o [Dicionário dos Microdados do Enem 2016](https://s3-us-west-1.amazonaws.com/acceleration-assets-highway/data-science/dicionario-de-dados.zip).\n",
    "\n",
    "Muitas universidades brasileiras utilizam o ENEM para selecionar seus futuros alunos e alunas. Isto é feito com uma média ponderada das notas das provas de matemática, ciências da natureza, linguagens e códigos, ciências humanas e redação. Determine os 20 melhores colocados, por ordem, para os pesos abaixo:\n",
    "\n",
    "- matemática: 3\n",
    "- ciências da natureza: 2\n",
    "- linguagens e códigos: 1.5\n",
    "- ciências humanas: 1\n",
    "- redação: 3\n",
    "\n",
    "No arquivo test.csv crie um modelo para prever nota da prova de matemática (coluna **NU_NOTA_MT**) de quem participou do ENEM 2016. \n",
    "\n",
    "Salve sua resposta em um arquivo chamado answer.csv com duas colunas: **NU_INSCRICAO** e **NU_NOTA_MT**.\n",
    "\n",
    "Faça o upload do arquivo answer.csv usando o botão \"Submeter resposta\".\n",
    "\n",
    "## Observações\n",
    "\n",
    "O objetivo do desafio é avaliar a sua capacidade de resolver problemas, então ele pode ser resolvido em qualquer linguagem de programação ou ferramenta que você tenha facilidade. Mas recomendamos o uso de linguagens com maior ferramental de matemática e estatística como Python, R, Scala ou Julia."
   ]
  },
  {
   "cell_type": "markdown",
   "metadata": {},
   "source": [
    "## Passos utilizados para resolver o desafio\n",
    "<hr style='border: 2px solid black;'>"
   ]
  },
  {
   "cell_type": "markdown",
   "metadata": {},
   "source": [
    "## PARTE 1: \n",
    "### Criação e teste do modelo de previsão baseado em Decision Trees\n"
   ]
  },
  {
   "cell_type": "code",
   "execution_count": 18,
   "metadata": {},
   "outputs": [],
   "source": [
    "#import de bibliotecas\n",
    "import pandas as pd\n",
    "import numpy as np\n",
    "import seaborn as sns"
   ]
  },
  {
   "cell_type": "code",
   "execution_count": 19,
   "metadata": {},
   "outputs": [],
   "source": [
    "#Carregando os dados\n",
    "dados_originais = pd.read_csv('train.csv')\n",
    "dados_desafio = pd.read_csv('test.csv')\n"
   ]
  },
  {
   "cell_type": "code",
   "execution_count": 20,
   "metadata": {},
   "outputs": [
    {
     "data": {
      "text/plain": [
       "array(['Unnamed: 0', 'NU_INSCRICAO', 'NU_ANO', 'CO_MUNICIPIO_RESIDENCIA',\n",
       "       'NO_MUNICIPIO_RESIDENCIA', 'CO_UF_RESIDENCIA', 'SG_UF_RESIDENCIA',\n",
       "       'NU_IDADE', 'TP_SEXO', 'TP_ESTADO_CIVIL', 'TP_COR_RACA',\n",
       "       'TP_NACIONALIDADE', 'CO_MUNICIPIO_NASCIMENTO',\n",
       "       'NO_MUNICIPIO_NASCIMENTO', 'CO_UF_NASCIMENTO', 'SG_UF_NASCIMENTO',\n",
       "       'TP_ST_CONCLUSAO', 'TP_ANO_CONCLUIU', 'TP_ESCOLA', 'TP_ENSINO',\n",
       "       'IN_TREINEIRO', 'CO_ESCOLA', 'CO_MUNICIPIO_ESC',\n",
       "       'NO_MUNICIPIO_ESC', 'CO_UF_ESC', 'SG_UF_ESC',\n",
       "       'TP_DEPENDENCIA_ADM_ESC', 'TP_LOCALIZACAO_ESC', 'TP_SIT_FUNC_ESC',\n",
       "       'IN_BAIXA_VISAO', 'IN_CEGUEIRA', 'IN_SURDEZ',\n",
       "       'IN_DEFICIENCIA_AUDITIVA', 'IN_SURDO_CEGUEIRA',\n",
       "       'IN_DEFICIENCIA_FISICA', 'IN_DEFICIENCIA_MENTAL',\n",
       "       'IN_DEFICIT_ATENCAO', 'IN_DISLEXIA', 'IN_DISCALCULIA',\n",
       "       'IN_AUTISMO', 'IN_VISAO_MONOCULAR', 'IN_OUTRA_DEF', 'IN_SABATISTA',\n",
       "       'IN_GESTANTE', 'IN_LACTANTE', 'IN_IDOSO',\n",
       "       'IN_ESTUDA_CLASSE_HOSPITALAR', 'IN_SEM_RECURSO', 'IN_BRAILLE',\n",
       "       'IN_AMPLIADA_24', 'IN_AMPLIADA_18', 'IN_LEDOR', 'IN_ACESSO',\n",
       "       'IN_TRANSCRICAO', 'IN_LIBRAS', 'IN_LEITURA_LABIAL',\n",
       "       'IN_MESA_CADEIRA_RODAS', 'IN_MESA_CADEIRA_SEPARADA',\n",
       "       'IN_APOIO_PERNA', 'IN_GUIA_INTERPRETE', 'IN_MACA', 'IN_COMPUTADOR',\n",
       "       'IN_CADEIRA_ESPECIAL', 'IN_CADEIRA_CANHOTO',\n",
       "       'IN_CADEIRA_ACOLCHOADA', 'IN_PROVA_DEITADO', 'IN_MOBILIARIO_OBESO',\n",
       "       'IN_LAMINA_OVERLAY', 'IN_PROTETOR_AURICULAR', 'IN_MEDIDOR_GLICOSE',\n",
       "       'IN_MAQUINA_BRAILE', 'IN_SOROBAN', 'IN_MARCA_PASSO', 'IN_SONDA',\n",
       "       'IN_MEDICAMENTOS', 'IN_SALA_INDIVIDUAL', 'IN_SALA_ESPECIAL',\n",
       "       'IN_SALA_ACOMPANHANTE', 'IN_MOBILIARIO_ESPECIFICO',\n",
       "       'IN_MATERIAL_ESPECIFICO', 'IN_NOME_SOCIAL', 'IN_CERTIFICADO',\n",
       "       'NO_ENTIDADE_CERTIFICACAO', 'CO_UF_ENTIDADE_CERTIFICACAO',\n",
       "       'SG_UF_ENTIDADE_CERTIFICACAO', 'CO_MUNICIPIO_PROVA',\n",
       "       'NO_MUNICIPIO_PROVA', 'CO_UF_PROVA', 'SG_UF_PROVA',\n",
       "       'TP_PRESENCA_CN', 'TP_PRESENCA_CH', 'TP_PRESENCA_LC',\n",
       "       'TP_PRESENCA_MT', 'CO_PROVA_CN', 'CO_PROVA_CH', 'CO_PROVA_LC',\n",
       "       'CO_PROVA_MT', 'NU_NOTA_CN', 'NU_NOTA_CH', 'NU_NOTA_LC',\n",
       "       'NU_NOTA_MT', 'TX_RESPOSTAS_CN', 'TX_RESPOSTAS_CH',\n",
       "       'TX_RESPOSTAS_LC', 'TX_RESPOSTAS_MT', 'TP_LINGUA',\n",
       "       'TX_GABARITO_CN', 'TX_GABARITO_CH', 'TX_GABARITO_LC',\n",
       "       'TX_GABARITO_MT', 'TP_STATUS_REDACAO', 'NU_NOTA_COMP1',\n",
       "       'NU_NOTA_COMP2', 'NU_NOTA_COMP3', 'NU_NOTA_COMP4', 'NU_NOTA_COMP5',\n",
       "       'NU_NOTA_REDACAO', 'Q001', 'Q002', 'Q003', 'Q004', 'Q005', 'Q006',\n",
       "       'Q007', 'Q008', 'Q009', 'Q010', 'Q011', 'Q012', 'Q013', 'Q014',\n",
       "       'Q015', 'Q016', 'Q017', 'Q018', 'Q019', 'Q020', 'Q021', 'Q022',\n",
       "       'Q023', 'Q024', 'Q025', 'Q026', 'Q027', 'Q028', 'Q029', 'Q030',\n",
       "       'Q031', 'Q032', 'Q033', 'Q034', 'Q035', 'Q036', 'Q037', 'Q038',\n",
       "       'Q039', 'Q040', 'Q041', 'Q042', 'Q043', 'Q044', 'Q045', 'Q046',\n",
       "       'Q047', 'Q048', 'Q049', 'Q050'], dtype=object)"
      ]
     },
     "execution_count": 20,
     "metadata": {},
     "output_type": "execute_result"
    }
   ],
   "source": [
    "#Verificando as colunas\n",
    "dados_originais.columns.values"
   ]
  },
  {
   "cell_type": "code",
   "execution_count": 21,
   "metadata": {},
   "outputs": [
    {
     "data": {
      "text/plain": [
       "(13730, 167)"
      ]
     },
     "execution_count": 21,
     "metadata": {},
     "output_type": "execute_result"
    }
   ],
   "source": [
    "#selecionando apenas as colunas que serão utilizadas nas análises\n",
    "dados = dados_originais[['NU_NOTA_CN','NU_NOTA_CH','NU_NOTA_LC','NU_NOTA_MT', 'NU_NOTA_REDACAO']]\n",
    "dados_originais.shape"
   ]
  },
  {
   "cell_type": "code",
   "execution_count": 22,
   "metadata": {},
   "outputs": [
    {
     "data": {
      "text/html": [
       "<div>\n",
       "<style scoped>\n",
       "    .dataframe tbody tr th:only-of-type {\n",
       "        vertical-align: middle;\n",
       "    }\n",
       "\n",
       "    .dataframe tbody tr th {\n",
       "        vertical-align: top;\n",
       "    }\n",
       "\n",
       "    .dataframe thead th {\n",
       "        text-align: right;\n",
       "    }\n",
       "</style>\n",
       "<table border=\"1\" class=\"dataframe\">\n",
       "  <thead>\n",
       "    <tr style=\"text-align: right;\">\n",
       "      <th></th>\n",
       "      <th>NU_NOTA_CN</th>\n",
       "      <th>NU_NOTA_CH</th>\n",
       "      <th>NU_NOTA_LC</th>\n",
       "      <th>NU_NOTA_MT</th>\n",
       "      <th>NU_NOTA_REDACAO</th>\n",
       "    </tr>\n",
       "  </thead>\n",
       "  <tbody>\n",
       "    <tr>\n",
       "      <th>0</th>\n",
       "      <td>436.3</td>\n",
       "      <td>495.4</td>\n",
       "      <td>581.2</td>\n",
       "      <td>399.4</td>\n",
       "      <td>520.0</td>\n",
       "    </tr>\n",
       "    <tr>\n",
       "      <th>1</th>\n",
       "      <td>474.5</td>\n",
       "      <td>544.1</td>\n",
       "      <td>599.0</td>\n",
       "      <td>459.8</td>\n",
       "      <td>580.0</td>\n",
       "    </tr>\n",
       "    <tr>\n",
       "      <th>2</th>\n",
       "      <td>NaN</td>\n",
       "      <td>NaN</td>\n",
       "      <td>NaN</td>\n",
       "      <td>NaN</td>\n",
       "      <td>NaN</td>\n",
       "    </tr>\n",
       "    <tr>\n",
       "      <th>3</th>\n",
       "      <td>NaN</td>\n",
       "      <td>NaN</td>\n",
       "      <td>NaN</td>\n",
       "      <td>NaN</td>\n",
       "      <td>NaN</td>\n",
       "    </tr>\n",
       "    <tr>\n",
       "      <th>4</th>\n",
       "      <td>NaN</td>\n",
       "      <td>NaN</td>\n",
       "      <td>NaN</td>\n",
       "      <td>NaN</td>\n",
       "      <td>NaN</td>\n",
       "    </tr>\n",
       "  </tbody>\n",
       "</table>\n",
       "</div>"
      ],
      "text/plain": [
       "   NU_NOTA_CN  NU_NOTA_CH  NU_NOTA_LC  NU_NOTA_MT  NU_NOTA_REDACAO\n",
       "0       436.3       495.4       581.2       399.4            520.0\n",
       "1       474.5       544.1       599.0       459.8            580.0\n",
       "2         NaN         NaN         NaN         NaN              NaN\n",
       "3         NaN         NaN         NaN         NaN              NaN\n",
       "4         NaN         NaN         NaN         NaN              NaN"
      ]
     },
     "execution_count": 22,
     "metadata": {},
     "output_type": "execute_result"
    }
   ],
   "source": [
    "#check\n",
    "dados.head()"
   ]
  },
  {
   "cell_type": "code",
   "execution_count": 23,
   "metadata": {},
   "outputs": [
    {
     "name": "stderr",
     "output_type": "stream",
     "text": [
      "c:\\users\\matheus\\appdata\\local\\programs\\python\\python35\\lib\\site-packages\\ipykernel_launcher.py:4: SettingWithCopyWarning: \n",
      "A value is trying to be set on a copy of a slice from a DataFrame.\n",
      "Try using .loc[row_indexer,col_indexer] = value instead\n",
      "\n",
      "See the caveats in the documentation: http://pandas.pydata.org/pandas-docs/stable/indexing.html#indexing-view-versus-copy\n",
      "  after removing the cwd from sys.path.\n",
      "c:\\users\\matheus\\appdata\\local\\programs\\python\\python35\\lib\\site-packages\\ipykernel_launcher.py:5: SettingWithCopyWarning: \n",
      "A value is trying to be set on a copy of a slice from a DataFrame.\n",
      "Try using .loc[row_indexer,col_indexer] = value instead\n",
      "\n",
      "See the caveats in the documentation: http://pandas.pydata.org/pandas-docs/stable/indexing.html#indexing-view-versus-copy\n",
      "  \"\"\"\n",
      "c:\\users\\matheus\\appdata\\local\\programs\\python\\python35\\lib\\site-packages\\ipykernel_launcher.py:6: SettingWithCopyWarning: \n",
      "A value is trying to be set on a copy of a slice from a DataFrame.\n",
      "Try using .loc[row_indexer,col_indexer] = value instead\n",
      "\n",
      "See the caveats in the documentation: http://pandas.pydata.org/pandas-docs/stable/indexing.html#indexing-view-versus-copy\n",
      "  \n",
      "c:\\users\\matheus\\appdata\\local\\programs\\python\\python35\\lib\\site-packages\\ipykernel_launcher.py:7: SettingWithCopyWarning: \n",
      "A value is trying to be set on a copy of a slice from a DataFrame.\n",
      "Try using .loc[row_indexer,col_indexer] = value instead\n",
      "\n",
      "See the caveats in the documentation: http://pandas.pydata.org/pandas-docs/stable/indexing.html#indexing-view-versus-copy\n",
      "  import sys\n",
      "c:\\users\\matheus\\appdata\\local\\programs\\python\\python35\\lib\\site-packages\\ipykernel_launcher.py:8: SettingWithCopyWarning: \n",
      "A value is trying to be set on a copy of a slice from a DataFrame.\n",
      "Try using .loc[row_indexer,col_indexer] = value instead\n",
      "\n",
      "See the caveats in the documentation: http://pandas.pydata.org/pandas-docs/stable/indexing.html#indexing-view-versus-copy\n",
      "  \n"
     ]
    }
   ],
   "source": [
    "#todas as notas menos a nota alvo\n",
    "features = ['NU_NOTA_CN','NU_NOTA_CH','NU_NOTA_LC','NU_NOTA_REDACAO']\n",
    "\n",
    "dados['MEDIAN']  = dados[features].apply(np.median, axis=1)\n",
    "dados['MIN']     = dados[features].apply(np.min, axis=1)\n",
    "dados['MAX']     = dados[features].apply(np.max, axis=1)\n",
    "dados['AVERAGE'] = dados[features].apply(np.average, axis=1)\n",
    "dados['STD']     = dados[features].apply(np.std, axis=1)\n",
    "\n",
    "\n"
   ]
  },
  {
   "cell_type": "code",
   "execution_count": 24,
   "metadata": {},
   "outputs": [
    {
     "data": {
      "text/html": [
       "<div>\n",
       "<style scoped>\n",
       "    .dataframe tbody tr th:only-of-type {\n",
       "        vertical-align: middle;\n",
       "    }\n",
       "\n",
       "    .dataframe tbody tr th {\n",
       "        vertical-align: top;\n",
       "    }\n",
       "\n",
       "    .dataframe thead th {\n",
       "        text-align: right;\n",
       "    }\n",
       "</style>\n",
       "<table border=\"1\" class=\"dataframe\">\n",
       "  <thead>\n",
       "    <tr style=\"text-align: right;\">\n",
       "      <th></th>\n",
       "      <th>NU_NOTA_CN</th>\n",
       "      <th>NU_NOTA_CH</th>\n",
       "      <th>NU_NOTA_LC</th>\n",
       "      <th>NU_NOTA_MT</th>\n",
       "      <th>NU_NOTA_REDACAO</th>\n",
       "      <th>MEDIAN</th>\n",
       "      <th>MIN</th>\n",
       "      <th>MAX</th>\n",
       "      <th>AVERAGE</th>\n",
       "      <th>STD</th>\n",
       "    </tr>\n",
       "  </thead>\n",
       "  <tbody>\n",
       "    <tr>\n",
       "      <th>0</th>\n",
       "      <td>436.3</td>\n",
       "      <td>495.4</td>\n",
       "      <td>581.2</td>\n",
       "      <td>399.4</td>\n",
       "      <td>520.0</td>\n",
       "      <td>507.70</td>\n",
       "      <td>436.3</td>\n",
       "      <td>581.2</td>\n",
       "      <td>508.225</td>\n",
       "      <td>51.965584</td>\n",
       "    </tr>\n",
       "    <tr>\n",
       "      <th>1</th>\n",
       "      <td>474.5</td>\n",
       "      <td>544.1</td>\n",
       "      <td>599.0</td>\n",
       "      <td>459.8</td>\n",
       "      <td>580.0</td>\n",
       "      <td>562.05</td>\n",
       "      <td>474.5</td>\n",
       "      <td>599.0</td>\n",
       "      <td>549.400</td>\n",
       "      <td>47.525309</td>\n",
       "    </tr>\n",
       "    <tr>\n",
       "      <th>2</th>\n",
       "      <td>NaN</td>\n",
       "      <td>NaN</td>\n",
       "      <td>NaN</td>\n",
       "      <td>NaN</td>\n",
       "      <td>NaN</td>\n",
       "      <td>NaN</td>\n",
       "      <td>NaN</td>\n",
       "      <td>NaN</td>\n",
       "      <td>NaN</td>\n",
       "      <td>NaN</td>\n",
       "    </tr>\n",
       "    <tr>\n",
       "      <th>3</th>\n",
       "      <td>NaN</td>\n",
       "      <td>NaN</td>\n",
       "      <td>NaN</td>\n",
       "      <td>NaN</td>\n",
       "      <td>NaN</td>\n",
       "      <td>NaN</td>\n",
       "      <td>NaN</td>\n",
       "      <td>NaN</td>\n",
       "      <td>NaN</td>\n",
       "      <td>NaN</td>\n",
       "    </tr>\n",
       "    <tr>\n",
       "      <th>4</th>\n",
       "      <td>NaN</td>\n",
       "      <td>NaN</td>\n",
       "      <td>NaN</td>\n",
       "      <td>NaN</td>\n",
       "      <td>NaN</td>\n",
       "      <td>NaN</td>\n",
       "      <td>NaN</td>\n",
       "      <td>NaN</td>\n",
       "      <td>NaN</td>\n",
       "      <td>NaN</td>\n",
       "    </tr>\n",
       "  </tbody>\n",
       "</table>\n",
       "</div>"
      ],
      "text/plain": [
       "   NU_NOTA_CN  NU_NOTA_CH  NU_NOTA_LC  NU_NOTA_MT  NU_NOTA_REDACAO  MEDIAN  \\\n",
       "0       436.3       495.4       581.2       399.4            520.0  507.70   \n",
       "1       474.5       544.1       599.0       459.8            580.0  562.05   \n",
       "2         NaN         NaN         NaN         NaN              NaN     NaN   \n",
       "3         NaN         NaN         NaN         NaN              NaN     NaN   \n",
       "4         NaN         NaN         NaN         NaN              NaN     NaN   \n",
       "\n",
       "     MIN    MAX  AVERAGE        STD  \n",
       "0  436.3  581.2  508.225  51.965584  \n",
       "1  474.5  599.0  549.400  47.525309  \n",
       "2    NaN    NaN      NaN        NaN  \n",
       "3    NaN    NaN      NaN        NaN  \n",
       "4    NaN    NaN      NaN        NaN  "
      ]
     },
     "execution_count": 24,
     "metadata": {},
     "output_type": "execute_result"
    }
   ],
   "source": [
    "#check\n",
    "dados.head()"
   ]
  },
  {
   "cell_type": "code",
   "execution_count": 25,
   "metadata": {},
   "outputs": [],
   "source": [
    "#removendo notas zero\n",
    "dados = dados.replace(0, np.NaN).dropna(how='all').fillna(0)"
   ]
  },
  {
   "cell_type": "code",
   "execution_count": 26,
   "metadata": {},
   "outputs": [
    {
     "data": {
      "text/plain": [
       "(10375, 10)"
      ]
     },
     "execution_count": 26,
     "metadata": {},
     "output_type": "execute_result"
    }
   ],
   "source": [
    "dados.shape"
   ]
  },
  {
   "cell_type": "markdown",
   "metadata": {},
   "source": [
    "## Split train x test para dados"
   ]
  },
  {
   "cell_type": "code",
   "execution_count": 27,
   "metadata": {},
   "outputs": [],
   "source": [
    "#máscara para test/split em 80% train data e 20% test data\n",
    "msk = np.random.rand(len(dados)) < 0.8\n",
    "df_train = dados[msk]\n",
    "df_test = dados[~msk]"
   ]
  },
  {
   "cell_type": "code",
   "execution_count": 28,
   "metadata": {},
   "outputs": [
    {
     "data": {
      "text/plain": [
       "((8306, 10), (2069, 10))"
      ]
     },
     "execution_count": 28,
     "metadata": {},
     "output_type": "execute_result"
    }
   ],
   "source": [
    "df_train.shape, df_test.shape"
   ]
  },
  {
   "cell_type": "markdown",
   "metadata": {},
   "source": [
    "## Verificando a correlação dos dados"
   ]
  },
  {
   "cell_type": "code",
   "execution_count": 29,
   "metadata": {},
   "outputs": [
    {
     "data": {
      "text/html": [
       "<div>\n",
       "<style scoped>\n",
       "    .dataframe tbody tr th:only-of-type {\n",
       "        vertical-align: middle;\n",
       "    }\n",
       "\n",
       "    .dataframe tbody tr th {\n",
       "        vertical-align: top;\n",
       "    }\n",
       "\n",
       "    .dataframe thead th {\n",
       "        text-align: right;\n",
       "    }\n",
       "</style>\n",
       "<table border=\"1\" class=\"dataframe\">\n",
       "  <thead>\n",
       "    <tr style=\"text-align: right;\">\n",
       "      <th></th>\n",
       "      <th>NU_NOTA_CN</th>\n",
       "      <th>NU_NOTA_CH</th>\n",
       "      <th>NU_NOTA_LC</th>\n",
       "      <th>NU_NOTA_MT</th>\n",
       "      <th>NU_NOTA_REDACAO</th>\n",
       "      <th>MEDIAN</th>\n",
       "      <th>MIN</th>\n",
       "      <th>MAX</th>\n",
       "      <th>AVERAGE</th>\n",
       "      <th>STD</th>\n",
       "    </tr>\n",
       "  </thead>\n",
       "  <tbody>\n",
       "    <tr>\n",
       "      <th>NU_NOTA_CN</th>\n",
       "      <td>1.000000</td>\n",
       "      <td>0.665284</td>\n",
       "      <td>0.356594</td>\n",
       "      <td>0.454871</td>\n",
       "      <td>0.402823</td>\n",
       "      <td>0.545023</td>\n",
       "      <td>0.617900</td>\n",
       "      <td>0.580873</td>\n",
       "      <td>0.571577</td>\n",
       "      <td>-0.099017</td>\n",
       "    </tr>\n",
       "    <tr>\n",
       "      <th>NU_NOTA_CH</th>\n",
       "      <td>0.665284</td>\n",
       "      <td>1.000000</td>\n",
       "      <td>0.452578</td>\n",
       "      <td>0.419391</td>\n",
       "      <td>0.477075</td>\n",
       "      <td>0.636451</td>\n",
       "      <td>0.563342</td>\n",
       "      <td>0.685010</td>\n",
       "      <td>0.634674</td>\n",
       "      <td>0.065799</td>\n",
       "    </tr>\n",
       "    <tr>\n",
       "      <th>NU_NOTA_LC</th>\n",
       "      <td>0.356594</td>\n",
       "      <td>0.452578</td>\n",
       "      <td>1.000000</td>\n",
       "      <td>0.712439</td>\n",
       "      <td>0.645975</td>\n",
       "      <td>0.900530</td>\n",
       "      <td>0.370034</td>\n",
       "      <td>0.502643</td>\n",
       "      <td>0.875208</td>\n",
       "      <td>0.078347</td>\n",
       "    </tr>\n",
       "    <tr>\n",
       "      <th>NU_NOTA_MT</th>\n",
       "      <td>0.454871</td>\n",
       "      <td>0.419391</td>\n",
       "      <td>0.712439</td>\n",
       "      <td>1.000000</td>\n",
       "      <td>0.546959</td>\n",
       "      <td>0.731964</td>\n",
       "      <td>0.352473</td>\n",
       "      <td>0.457573</td>\n",
       "      <td>0.726629</td>\n",
       "      <td>0.062014</td>\n",
       "    </tr>\n",
       "    <tr>\n",
       "      <th>NU_NOTA_REDACAO</th>\n",
       "      <td>0.402823</td>\n",
       "      <td>0.477075</td>\n",
       "      <td>0.645975</td>\n",
       "      <td>0.546959</td>\n",
       "      <td>1.000000</td>\n",
       "      <td>0.754727</td>\n",
       "      <td>0.717152</td>\n",
       "      <td>0.768063</td>\n",
       "      <td>0.846556</td>\n",
       "      <td>-0.045514</td>\n",
       "    </tr>\n",
       "    <tr>\n",
       "      <th>MEDIAN</th>\n",
       "      <td>0.545023</td>\n",
       "      <td>0.636451</td>\n",
       "      <td>0.900530</td>\n",
       "      <td>0.731964</td>\n",
       "      <td>0.754727</td>\n",
       "      <td>1.000000</td>\n",
       "      <td>0.442512</td>\n",
       "      <td>0.593396</td>\n",
       "      <td>0.978806</td>\n",
       "      <td>0.083760</td>\n",
       "    </tr>\n",
       "    <tr>\n",
       "      <th>MIN</th>\n",
       "      <td>0.617900</td>\n",
       "      <td>0.563342</td>\n",
       "      <td>0.370034</td>\n",
       "      <td>0.352473</td>\n",
       "      <td>0.717152</td>\n",
       "      <td>0.442512</td>\n",
       "      <td>1.000000</td>\n",
       "      <td>0.593962</td>\n",
       "      <td>0.561787</td>\n",
       "      <td>-0.530062</td>\n",
       "    </tr>\n",
       "    <tr>\n",
       "      <th>MAX</th>\n",
       "      <td>0.580873</td>\n",
       "      <td>0.685010</td>\n",
       "      <td>0.502643</td>\n",
       "      <td>0.457573</td>\n",
       "      <td>0.768063</td>\n",
       "      <td>0.593396</td>\n",
       "      <td>0.593962</td>\n",
       "      <td>1.000000</td>\n",
       "      <td>0.670766</td>\n",
       "      <td>0.360368</td>\n",
       "    </tr>\n",
       "    <tr>\n",
       "      <th>AVERAGE</th>\n",
       "      <td>0.571577</td>\n",
       "      <td>0.634674</td>\n",
       "      <td>0.875208</td>\n",
       "      <td>0.726629</td>\n",
       "      <td>0.846556</td>\n",
       "      <td>0.978806</td>\n",
       "      <td>0.561787</td>\n",
       "      <td>0.670766</td>\n",
       "      <td>1.000000</td>\n",
       "      <td>0.027843</td>\n",
       "    </tr>\n",
       "    <tr>\n",
       "      <th>STD</th>\n",
       "      <td>-0.099017</td>\n",
       "      <td>0.065799</td>\n",
       "      <td>0.078347</td>\n",
       "      <td>0.062014</td>\n",
       "      <td>-0.045514</td>\n",
       "      <td>0.083760</td>\n",
       "      <td>-0.530062</td>\n",
       "      <td>0.360368</td>\n",
       "      <td>0.027843</td>\n",
       "      <td>1.000000</td>\n",
       "    </tr>\n",
       "  </tbody>\n",
       "</table>\n",
       "</div>"
      ],
      "text/plain": [
       "                 NU_NOTA_CN  NU_NOTA_CH  NU_NOTA_LC  NU_NOTA_MT  \\\n",
       "NU_NOTA_CN         1.000000    0.665284    0.356594    0.454871   \n",
       "NU_NOTA_CH         0.665284    1.000000    0.452578    0.419391   \n",
       "NU_NOTA_LC         0.356594    0.452578    1.000000    0.712439   \n",
       "NU_NOTA_MT         0.454871    0.419391    0.712439    1.000000   \n",
       "NU_NOTA_REDACAO    0.402823    0.477075    0.645975    0.546959   \n",
       "MEDIAN             0.545023    0.636451    0.900530    0.731964   \n",
       "MIN                0.617900    0.563342    0.370034    0.352473   \n",
       "MAX                0.580873    0.685010    0.502643    0.457573   \n",
       "AVERAGE            0.571577    0.634674    0.875208    0.726629   \n",
       "STD               -0.099017    0.065799    0.078347    0.062014   \n",
       "\n",
       "                 NU_NOTA_REDACAO    MEDIAN       MIN       MAX   AVERAGE  \\\n",
       "NU_NOTA_CN              0.402823  0.545023  0.617900  0.580873  0.571577   \n",
       "NU_NOTA_CH              0.477075  0.636451  0.563342  0.685010  0.634674   \n",
       "NU_NOTA_LC              0.645975  0.900530  0.370034  0.502643  0.875208   \n",
       "NU_NOTA_MT              0.546959  0.731964  0.352473  0.457573  0.726629   \n",
       "NU_NOTA_REDACAO         1.000000  0.754727  0.717152  0.768063  0.846556   \n",
       "MEDIAN                  0.754727  1.000000  0.442512  0.593396  0.978806   \n",
       "MIN                     0.717152  0.442512  1.000000  0.593962  0.561787   \n",
       "MAX                     0.768063  0.593396  0.593962  1.000000  0.670766   \n",
       "AVERAGE                 0.846556  0.978806  0.561787  0.670766  1.000000   \n",
       "STD                    -0.045514  0.083760 -0.530062  0.360368  0.027843   \n",
       "\n",
       "                      STD  \n",
       "NU_NOTA_CN      -0.099017  \n",
       "NU_NOTA_CH       0.065799  \n",
       "NU_NOTA_LC       0.078347  \n",
       "NU_NOTA_MT       0.062014  \n",
       "NU_NOTA_REDACAO -0.045514  \n",
       "MEDIAN           0.083760  \n",
       "MIN             -0.530062  \n",
       "MAX              0.360368  \n",
       "AVERAGE          0.027843  \n",
       "STD              1.000000  "
      ]
     },
     "execution_count": 29,
     "metadata": {},
     "output_type": "execute_result"
    }
   ],
   "source": [
    "#Verificando a correlação entre as colunas\n",
    "df_train.corr()"
   ]
  },
  {
   "cell_type": "markdown",
   "metadata": {},
   "source": [
    "## Criando dados train x,y & test x,y"
   ]
  },
  {
   "cell_type": "code",
   "execution_count": 30,
   "metadata": {},
   "outputs": [
    {
     "data": {
      "text/plain": [
       "((8306, 9), (8306, 1), (2069, 9), (2069, 1))"
      ]
     },
     "execution_count": 30,
     "metadata": {},
     "output_type": "execute_result"
    }
   ],
   "source": [
    "df_train_x = df_train[['NU_NOTA_CN','NU_NOTA_CH','NU_NOTA_LC', 'NU_NOTA_REDACAO', 'MEDIAN', 'MIN', 'MAX', 'AVERAGE', 'STD' ]]\n",
    "df_train_y = df_train[['NU_NOTA_MT']]\n",
    "\n",
    "df_test_x = df_test[['NU_NOTA_CN','NU_NOTA_CH','NU_NOTA_LC', 'NU_NOTA_REDACAO', 'MEDIAN', 'MIN', 'MAX', 'AVERAGE', 'STD']]\n",
    "df_test_y = df_test[['NU_NOTA_MT']]\n",
    "\n",
    "df_train_x.shape, df_train_y.shape, df_test_x.shape, df_test_y.shape"
   ]
  },
  {
   "cell_type": "markdown",
   "metadata": {},
   "source": [
    "##### Seed setada"
   ]
  },
  {
   "cell_type": "code",
   "execution_count": 31,
   "metadata": {},
   "outputs": [],
   "source": [
    "#Configurando uma seed para que os testes executados tenham sempra a mesma\n",
    "SEED = 0"
   ]
  },
  {
   "cell_type": "markdown",
   "metadata": {},
   "source": [
    "##### Transformar em array numpy"
   ]
  },
  {
   "cell_type": "code",
   "execution_count": 32,
   "metadata": {},
   "outputs": [],
   "source": [
    "#transformando em array numpy\n",
    "train_x = df_train_x.to_numpy()\n",
    "train_y = df_train_y.to_numpy()\n",
    "test_x = df_test_x.to_numpy()\n",
    "test_y = df_test_y.to_numpy()"
   ]
  },
  {
   "cell_type": "code",
   "execution_count": 33,
   "metadata": {},
   "outputs": [
    {
     "name": "stdout",
     "output_type": "stream",
     "text": [
      "Max leaf nodes: 5  \t\t Mean Absolute Error:  60\n",
      "Max leaf nodes: 25  \t\t Mean Absolute Error:  58\n",
      "Max leaf nodes: 26  \t\t Mean Absolute Error:  58\n",
      "Max leaf nodes: 27  \t\t Mean Absolute Error:  58\n",
      "Max leaf nodes: 28  \t\t Mean Absolute Error:  58\n",
      "Max leaf nodes: 29  \t\t Mean Absolute Error:  58\n",
      "Max leaf nodes: 30  \t\t Mean Absolute Error:  58\n",
      "Max leaf nodes: 50  \t\t Mean Absolute Error:  59\n",
      "Max leaf nodes: 100  \t\t Mean Absolute Error:  60\n",
      "Max leaf nodes: 250  \t\t Mean Absolute Error:  62\n",
      "Max leaf nodes: 500  \t\t Mean Absolute Error:  65\n",
      "30\n"
     ]
    }
   ],
   "source": [
    "#treinando o modelo de Decision Tree e otimizando o max_leaf_nodes com uma função para encontrar o melhor parâmetros baseado no mean_absolute_error\n",
    "\n",
    "from sklearn.metrics import mean_absolute_error\n",
    "from sklearn.tree import DecisionTreeRegressor\n",
    "\n",
    "def get_mae(max_leaf_nodes, train_x, test_x, train_y, te_y):\n",
    "    model = DecisionTreeRegressor(max_leaf_nodes=max_leaf_nodes, random_state=0)\n",
    "    model.fit(train_x, train_y)\n",
    "    preds_val = model.predict(test_x)\n",
    "    mae = mean_absolute_error(test_y, preds_val)\n",
    "    return(mae)\n",
    "\n",
    "candidate_max_leaf_nodes = [5, 25,26,27,28,29,30, 50, 100, 250, 500]\n",
    "# Write loop to find the ideal tree size from candidate_max_leaf_nodes\n",
    "for max_leaf_nodes in candidate_max_leaf_nodes:\n",
    "    my_mae = get_mae(max_leaf_nodes, train_x, test_x, train_y, test_y)\n",
    "    print(\"Max leaf nodes: %d  \\t\\t Mean Absolute Error:  %d\" %(max_leaf_nodes, my_mae))\n",
    "\n",
    "scores = {leaf_size: get_mae(leaf_size, train_x, test_x, train_y, test_y) for leaf_size in candidate_max_leaf_nodes}\n",
    "best_tree_size = min(scores, key=scores.get)\n",
    "print(best_tree_size)"
   ]
  },
  {
   "cell_type": "code",
   "execution_count": 35,
   "metadata": {},
   "outputs": [
    {
     "name": "stdout",
     "output_type": "stream",
     "text": [
      "Max leaf nodes: 5  \t\t Mean Squared Error:  5981\n",
      "Max leaf nodes: 25  \t\t Mean Squared Error:  5639\n",
      "Max leaf nodes: 26  \t\t Mean Squared Error:  5643\n",
      "Max leaf nodes: 27  \t\t Mean Squared Error:  5623\n",
      "Max leaf nodes: 28  \t\t Mean Squared Error:  5631\n",
      "Max leaf nodes: 29  \t\t Mean Squared Error:  5651\n",
      "Max leaf nodes: 30  \t\t Mean Squared Error:  5618\n",
      "Max leaf nodes: 50  \t\t Mean Squared Error:  5892\n",
      "Max leaf nodes: 100  \t\t Mean Squared Error:  6246\n",
      "Max leaf nodes: 250  \t\t Mean Squared Error:  6759\n",
      "Max leaf nodes: 500  \t\t Mean Squared Error:  7628\n",
      "30\n"
     ]
    }
   ],
   "source": [
    "#treinando o modelo de Decision Tree e otimizando o max_leaf_nodes \n",
    "#com uma função para encontrar o melhor parâmetros baseado no mean_squared_error\n",
    "from sklearn.metrics import mean_squared_error\n",
    "\n",
    "def get_mse(max_leaf_nodes, train_x, test_x, train_y, te_y):\n",
    "    model = DecisionTreeRegressor(max_leaf_nodes=max_leaf_nodes, random_state=1)\n",
    "    model.fit(train_x, train_y)\n",
    "    preds_val = model.predict(test_x)\n",
    "    mse = mean_squared_error(test_y, preds_val)\n",
    "    return(mse)\n",
    "\n",
    "candidate_max_leaf_nodes = [5, 25,26,27,28,29,30, 50, 100, 250, 500]\n",
    "# Write loop to find the ideal tree size from candidate_max_leaf_nodes\n",
    "for max_leaf_nodes in candidate_max_leaf_nodes:\n",
    "    my_mse = get_mse(max_leaf_nodes, train_x, test_x, train_y, test_y)\n",
    "    print(\"Max leaf nodes: %d  \\t\\t Mean Squared Error:  %d\" %(max_leaf_nodes, my_mse))\n",
    "\n",
    "scores = {leaf_size: get_mse(leaf_size, train_x, test_x, train_y, test_y) for leaf_size in candidate_max_leaf_nodes}\n",
    "best_tree_size = min(scores, key=scores.get)\n",
    "print(best_tree_size)\n",
    "\n"
   ]
  },
  {
   "cell_type": "code",
   "execution_count": 42,
   "metadata": {},
   "outputs": [
    {
     "name": "stdout",
     "output_type": "stream",
     "text": [
      "4628.70898547483\n",
      "54.115140761823106\n",
      "0.530957534027056\n"
     ]
    }
   ],
   "source": [
    "# Fill in argument to make optimal size and uncomment\n",
    "final_model = DecisionTreeRegressor(max_leaf_nodes=best_tree_size, random_state=1)\n",
    "\n",
    "# fit the final model and uncomment the next two lines\n",
    "final_model.fit(test_x, test_y)\n",
    "test_y_ = final_model.predict(test_x)\n",
    "\n",
    "from sklearn.metrics import mean_squared_error\n",
    "from sklearn.metrics import r2_score\n",
    "\n",
    "print(mean_squared_error(test_y, test_y_))\n",
    "print(mean_absolute_error(test_y, test_y_))\n",
    "print(r2_score(test_y_ , test_y))\n",
    "\n",
    "\n"
   ]
  },
  {
   "cell_type": "markdown",
   "metadata": {},
   "source": [
    "## PARTE 2: \n",
    "### Previsão dos dados de submissão\n",
    "Foi necessário o mesmo tratamento de dados realizado anteriormente para que o modelo final pudesse gerar o resultados esperado nos dados do desafio\n"
   ]
  },
  {
   "cell_type": "code",
   "execution_count": 43,
   "metadata": {},
   "outputs": [
    {
     "data": {
      "text/html": [
       "<div>\n",
       "<style scoped>\n",
       "    .dataframe tbody tr th:only-of-type {\n",
       "        vertical-align: middle;\n",
       "    }\n",
       "\n",
       "    .dataframe tbody tr th {\n",
       "        vertical-align: top;\n",
       "    }\n",
       "\n",
       "    .dataframe thead th {\n",
       "        text-align: right;\n",
       "    }\n",
       "</style>\n",
       "<table border=\"1\" class=\"dataframe\">\n",
       "  <thead>\n",
       "    <tr style=\"text-align: right;\">\n",
       "      <th></th>\n",
       "      <th>NU_INSCRICAO</th>\n",
       "      <th>CO_UF_RESIDENCIA</th>\n",
       "      <th>SG_UF_RESIDENCIA</th>\n",
       "      <th>NU_IDADE</th>\n",
       "      <th>TP_SEXO</th>\n",
       "      <th>TP_COR_RACA</th>\n",
       "      <th>TP_NACIONALIDADE</th>\n",
       "      <th>TP_ST_CONCLUSAO</th>\n",
       "      <th>TP_ANO_CONCLUIU</th>\n",
       "      <th>TP_ESCOLA</th>\n",
       "      <th>...</th>\n",
       "      <th>Q024</th>\n",
       "      <th>Q025</th>\n",
       "      <th>Q026</th>\n",
       "      <th>Q027</th>\n",
       "      <th>Q047</th>\n",
       "      <th>MEDIAN</th>\n",
       "      <th>MIN</th>\n",
       "      <th>MAX</th>\n",
       "      <th>AVERAGE</th>\n",
       "      <th>STD</th>\n",
       "    </tr>\n",
       "  </thead>\n",
       "  <tbody>\n",
       "    <tr>\n",
       "      <th>0</th>\n",
       "      <td>73ff9fcc02f0a99919906c942c2e1a1042cdcf98</td>\n",
       "      <td>41</td>\n",
       "      <td>PR</td>\n",
       "      <td>22</td>\n",
       "      <td>F</td>\n",
       "      <td>3</td>\n",
       "      <td>1</td>\n",
       "      <td>1</td>\n",
       "      <td>5</td>\n",
       "      <td>1</td>\n",
       "      <td>...</td>\n",
       "      <td>A</td>\n",
       "      <td>A</td>\n",
       "      <td>C</td>\n",
       "      <td>C</td>\n",
       "      <td>A</td>\n",
       "      <td>437.65</td>\n",
       "      <td>420.0</td>\n",
       "      <td>464.8</td>\n",
       "      <td>440.025</td>\n",
       "      <td>16.541822</td>\n",
       "    </tr>\n",
       "    <tr>\n",
       "      <th>1</th>\n",
       "      <td>71a95f9f1b91a82c65ad94abbdf9f54e6066f968</td>\n",
       "      <td>21</td>\n",
       "      <td>MA</td>\n",
       "      <td>26</td>\n",
       "      <td>F</td>\n",
       "      <td>3</td>\n",
       "      <td>1</td>\n",
       "      <td>1</td>\n",
       "      <td>8</td>\n",
       "      <td>1</td>\n",
       "      <td>...</td>\n",
       "      <td>B</td>\n",
       "      <td>B</td>\n",
       "      <td>B</td>\n",
       "      <td>F</td>\n",
       "      <td>A</td>\n",
       "      <td>519.55</td>\n",
       "      <td>391.1</td>\n",
       "      <td>580.0</td>\n",
       "      <td>502.550</td>\n",
       "      <td>71.792078</td>\n",
       "    </tr>\n",
       "    <tr>\n",
       "      <th>2</th>\n",
       "      <td>b38a03232f43b11c9d0788abaf060f7366053b6d</td>\n",
       "      <td>23</td>\n",
       "      <td>CE</td>\n",
       "      <td>21</td>\n",
       "      <td>M</td>\n",
       "      <td>1</td>\n",
       "      <td>1</td>\n",
       "      <td>2</td>\n",
       "      <td>0</td>\n",
       "      <td>2</td>\n",
       "      <td>...</td>\n",
       "      <td>B</td>\n",
       "      <td>B</td>\n",
       "      <td>A</td>\n",
       "      <td>NaN</td>\n",
       "      <td>A</td>\n",
       "      <td>604.75</td>\n",
       "      <td>320.0</td>\n",
       "      <td>622.7</td>\n",
       "      <td>538.050</td>\n",
       "      <td>126.259505</td>\n",
       "    </tr>\n",
       "    <tr>\n",
       "      <th>3</th>\n",
       "      <td>70b682d9a3636be23f6120fa9d6b164eb3c6002d</td>\n",
       "      <td>15</td>\n",
       "      <td>PA</td>\n",
       "      <td>27</td>\n",
       "      <td>F</td>\n",
       "      <td>3</td>\n",
       "      <td>1</td>\n",
       "      <td>1</td>\n",
       "      <td>8</td>\n",
       "      <td>1</td>\n",
       "      <td>...</td>\n",
       "      <td>B</td>\n",
       "      <td>B</td>\n",
       "      <td>A</td>\n",
       "      <td>NaN</td>\n",
       "      <td>A</td>\n",
       "      <td>NaN</td>\n",
       "      <td>NaN</td>\n",
       "      <td>NaN</td>\n",
       "      <td>NaN</td>\n",
       "      <td>NaN</td>\n",
       "    </tr>\n",
       "    <tr>\n",
       "      <th>4</th>\n",
       "      <td>715494628a50142ce8cb17191cfe6d0f3cae0934</td>\n",
       "      <td>41</td>\n",
       "      <td>PR</td>\n",
       "      <td>18</td>\n",
       "      <td>M</td>\n",
       "      <td>1</td>\n",
       "      <td>1</td>\n",
       "      <td>2</td>\n",
       "      <td>0</td>\n",
       "      <td>2</td>\n",
       "      <td>...</td>\n",
       "      <td>C</td>\n",
       "      <td>B</td>\n",
       "      <td>A</td>\n",
       "      <td>NaN</td>\n",
       "      <td>A</td>\n",
       "      <td>532.00</td>\n",
       "      <td>320.0</td>\n",
       "      <td>592.9</td>\n",
       "      <td>494.225</td>\n",
       "      <td>107.296001</td>\n",
       "    </tr>\n",
       "    <tr>\n",
       "      <th>5</th>\n",
       "      <td>e656d6bad65c93fb2880f1eba5037008c8e75774</td>\n",
       "      <td>43</td>\n",
       "      <td>RS</td>\n",
       "      <td>18</td>\n",
       "      <td>M</td>\n",
       "      <td>3</td>\n",
       "      <td>1</td>\n",
       "      <td>1</td>\n",
       "      <td>1</td>\n",
       "      <td>1</td>\n",
       "      <td>...</td>\n",
       "      <td>B</td>\n",
       "      <td>B</td>\n",
       "      <td>A</td>\n",
       "      <td>NaN</td>\n",
       "      <td>A</td>\n",
       "      <td>551.25</td>\n",
       "      <td>414.5</td>\n",
       "      <td>568.5</td>\n",
       "      <td>521.375</td>\n",
       "      <td>62.412313</td>\n",
       "    </tr>\n",
       "    <tr>\n",
       "      <th>6</th>\n",
       "      <td>465cd2a6907fb37d9d8ad3c065f0e2dabdba9b13</td>\n",
       "      <td>35</td>\n",
       "      <td>SP</td>\n",
       "      <td>17</td>\n",
       "      <td>F</td>\n",
       "      <td>1</td>\n",
       "      <td>1</td>\n",
       "      <td>2</td>\n",
       "      <td>0</td>\n",
       "      <td>3</td>\n",
       "      <td>...</td>\n",
       "      <td>D</td>\n",
       "      <td>B</td>\n",
       "      <td>A</td>\n",
       "      <td>NaN</td>\n",
       "      <td>D</td>\n",
       "      <td>613.30</td>\n",
       "      <td>485.7</td>\n",
       "      <td>654.6</td>\n",
       "      <td>591.725</td>\n",
       "      <td>63.669670</td>\n",
       "    </tr>\n",
       "    <tr>\n",
       "      <th>7</th>\n",
       "      <td>11539e86171bf07d3a36f09377d7f54ebcc8406a</td>\n",
       "      <td>23</td>\n",
       "      <td>CE</td>\n",
       "      <td>17</td>\n",
       "      <td>F</td>\n",
       "      <td>3</td>\n",
       "      <td>2</td>\n",
       "      <td>2</td>\n",
       "      <td>0</td>\n",
       "      <td>2</td>\n",
       "      <td>...</td>\n",
       "      <td>A</td>\n",
       "      <td>A</td>\n",
       "      <td>A</td>\n",
       "      <td>NaN</td>\n",
       "      <td>A</td>\n",
       "      <td>437.50</td>\n",
       "      <td>420.0</td>\n",
       "      <td>521.0</td>\n",
       "      <td>454.000</td>\n",
       "      <td>40.615514</td>\n",
       "    </tr>\n",
       "    <tr>\n",
       "      <th>8</th>\n",
       "      <td>043c544a2104aa8a9849f1a703a08d37a2f16839</td>\n",
       "      <td>51</td>\n",
       "      <td>MT</td>\n",
       "      <td>18</td>\n",
       "      <td>F</td>\n",
       "      <td>3</td>\n",
       "      <td>1</td>\n",
       "      <td>2</td>\n",
       "      <td>0</td>\n",
       "      <td>2</td>\n",
       "      <td>...</td>\n",
       "      <td>A</td>\n",
       "      <td>A</td>\n",
       "      <td>B</td>\n",
       "      <td>D</td>\n",
       "      <td>A</td>\n",
       "      <td>563.10</td>\n",
       "      <td>414.4</td>\n",
       "      <td>740.0</td>\n",
       "      <td>570.150</td>\n",
       "      <td>115.787510</td>\n",
       "    </tr>\n",
       "    <tr>\n",
       "      <th>9</th>\n",
       "      <td>76ba050e64ad100b856f0eaabd8f539d5c7dd185</td>\n",
       "      <td>15</td>\n",
       "      <td>PA</td>\n",
       "      <td>17</td>\n",
       "      <td>M</td>\n",
       "      <td>3</td>\n",
       "      <td>2</td>\n",
       "      <td>2</td>\n",
       "      <td>0</td>\n",
       "      <td>2</td>\n",
       "      <td>...</td>\n",
       "      <td>A</td>\n",
       "      <td>A</td>\n",
       "      <td>A</td>\n",
       "      <td>NaN</td>\n",
       "      <td>A</td>\n",
       "      <td>503.60</td>\n",
       "      <td>456.8</td>\n",
       "      <td>580.0</td>\n",
       "      <td>511.000</td>\n",
       "      <td>45.420755</td>\n",
       "    </tr>\n",
       "  </tbody>\n",
       "</table>\n",
       "<p>10 rows × 52 columns</p>\n",
       "</div>"
      ],
      "text/plain": [
       "                               NU_INSCRICAO  CO_UF_RESIDENCIA  \\\n",
       "0  73ff9fcc02f0a99919906c942c2e1a1042cdcf98                41   \n",
       "1  71a95f9f1b91a82c65ad94abbdf9f54e6066f968                21   \n",
       "2  b38a03232f43b11c9d0788abaf060f7366053b6d                23   \n",
       "3  70b682d9a3636be23f6120fa9d6b164eb3c6002d                15   \n",
       "4  715494628a50142ce8cb17191cfe6d0f3cae0934                41   \n",
       "5  e656d6bad65c93fb2880f1eba5037008c8e75774                43   \n",
       "6  465cd2a6907fb37d9d8ad3c065f0e2dabdba9b13                35   \n",
       "7  11539e86171bf07d3a36f09377d7f54ebcc8406a                23   \n",
       "8  043c544a2104aa8a9849f1a703a08d37a2f16839                51   \n",
       "9  76ba050e64ad100b856f0eaabd8f539d5c7dd185                15   \n",
       "\n",
       "  SG_UF_RESIDENCIA  NU_IDADE TP_SEXO  TP_COR_RACA  TP_NACIONALIDADE  \\\n",
       "0               PR        22       F            3                 1   \n",
       "1               MA        26       F            3                 1   \n",
       "2               CE        21       M            1                 1   \n",
       "3               PA        27       F            3                 1   \n",
       "4               PR        18       M            1                 1   \n",
       "5               RS        18       M            3                 1   \n",
       "6               SP        17       F            1                 1   \n",
       "7               CE        17       F            3                 2   \n",
       "8               MT        18       F            3                 1   \n",
       "9               PA        17       M            3                 2   \n",
       "\n",
       "   TP_ST_CONCLUSAO  TP_ANO_CONCLUIU  TP_ESCOLA  ...  Q024  Q025  Q026  Q027  \\\n",
       "0                1                5          1  ...     A     A     C     C   \n",
       "1                1                8          1  ...     B     B     B     F   \n",
       "2                2                0          2  ...     B     B     A   NaN   \n",
       "3                1                8          1  ...     B     B     A   NaN   \n",
       "4                2                0          2  ...     C     B     A   NaN   \n",
       "5                1                1          1  ...     B     B     A   NaN   \n",
       "6                2                0          3  ...     D     B     A   NaN   \n",
       "7                2                0          2  ...     A     A     A   NaN   \n",
       "8                2                0          2  ...     A     A     B     D   \n",
       "9                2                0          2  ...     A     A     A   NaN   \n",
       "\n",
       "   Q047  MEDIAN    MIN    MAX  AVERAGE         STD  \n",
       "0     A  437.65  420.0  464.8  440.025   16.541822  \n",
       "1     A  519.55  391.1  580.0  502.550   71.792078  \n",
       "2     A  604.75  320.0  622.7  538.050  126.259505  \n",
       "3     A     NaN    NaN    NaN      NaN         NaN  \n",
       "4     A  532.00  320.0  592.9  494.225  107.296001  \n",
       "5     A  551.25  414.5  568.5  521.375   62.412313  \n",
       "6     D  613.30  485.7  654.6  591.725   63.669670  \n",
       "7     A  437.50  420.0  521.0  454.000   40.615514  \n",
       "8     A  563.10  414.4  740.0  570.150  115.787510  \n",
       "9     A  503.60  456.8  580.0  511.000   45.420755  \n",
       "\n",
       "[10 rows x 52 columns]"
      ]
     },
     "execution_count": 43,
     "metadata": {},
     "output_type": "execute_result"
    }
   ],
   "source": [
    "#Verificação dos dados\n",
    "dados_desafio.head(10)"
   ]
  },
  {
   "cell_type": "code",
   "execution_count": 44,
   "metadata": {},
   "outputs": [
    {
     "data": {
      "text/plain": [
       "Index(['NU_INSCRICAO', 'CO_UF_RESIDENCIA', 'SG_UF_RESIDENCIA', 'NU_IDADE',\n",
       "       'TP_SEXO', 'TP_COR_RACA', 'TP_NACIONALIDADE', 'TP_ST_CONCLUSAO',\n",
       "       'TP_ANO_CONCLUIU', 'TP_ESCOLA', 'TP_ENSINO', 'IN_TREINEIRO',\n",
       "       'TP_DEPENDENCIA_ADM_ESC', 'IN_BAIXA_VISAO', 'IN_CEGUEIRA', 'IN_SURDEZ',\n",
       "       'IN_DISLEXIA', 'IN_DISCALCULIA', 'IN_SABATISTA', 'IN_GESTANTE',\n",
       "       'IN_IDOSO', 'TP_PRESENCA_CN', 'TP_PRESENCA_CH', 'TP_PRESENCA_LC',\n",
       "       'CO_PROVA_CN', 'CO_PROVA_CH', 'CO_PROVA_LC', 'CO_PROVA_MT',\n",
       "       'NU_NOTA_CN', 'NU_NOTA_CH', 'NU_NOTA_LC', 'TP_LINGUA',\n",
       "       'TP_STATUS_REDACAO', 'NU_NOTA_COMP1', 'NU_NOTA_COMP2', 'NU_NOTA_COMP3',\n",
       "       'NU_NOTA_COMP4', 'NU_NOTA_COMP5', 'NU_NOTA_REDACAO', 'Q001', 'Q002',\n",
       "       'Q006', 'Q024', 'Q025', 'Q026', 'Q027', 'Q047', 'MEDIAN', 'MIN', 'MAX',\n",
       "       'AVERAGE', 'STD'],\n",
       "      dtype='object')"
      ]
     },
     "execution_count": 44,
     "metadata": {},
     "output_type": "execute_result"
    }
   ],
   "source": [
    "#Verificação das colunas\n",
    "dados_desafio.columns\n",
    "#dados_desafio.head()"
   ]
  },
  {
   "cell_type": "code",
   "execution_count": 45,
   "metadata": {},
   "outputs": [
    {
     "name": "stderr",
     "output_type": "stream",
     "text": [
      "c:\\users\\matheus\\appdata\\local\\programs\\python\\python35\\lib\\site-packages\\numpy\\lib\\function_base.py:3405: RuntimeWarning: Invalid value encountered in median\n",
      "  r = func(a, **kwargs)\n"
     ]
    },
    {
     "data": {
      "text/html": [
       "<div>\n",
       "<style scoped>\n",
       "    .dataframe tbody tr th:only-of-type {\n",
       "        vertical-align: middle;\n",
       "    }\n",
       "\n",
       "    .dataframe tbody tr th {\n",
       "        vertical-align: top;\n",
       "    }\n",
       "\n",
       "    .dataframe thead th {\n",
       "        text-align: right;\n",
       "    }\n",
       "</style>\n",
       "<table border=\"1\" class=\"dataframe\">\n",
       "  <thead>\n",
       "    <tr style=\"text-align: right;\">\n",
       "      <th></th>\n",
       "      <th>NU_INSCRICAO</th>\n",
       "      <th>CO_UF_RESIDENCIA</th>\n",
       "      <th>SG_UF_RESIDENCIA</th>\n",
       "      <th>NU_IDADE</th>\n",
       "      <th>TP_SEXO</th>\n",
       "      <th>TP_COR_RACA</th>\n",
       "      <th>TP_NACIONALIDADE</th>\n",
       "      <th>TP_ST_CONCLUSAO</th>\n",
       "      <th>TP_ANO_CONCLUIU</th>\n",
       "      <th>TP_ESCOLA</th>\n",
       "      <th>...</th>\n",
       "      <th>Q024</th>\n",
       "      <th>Q025</th>\n",
       "      <th>Q026</th>\n",
       "      <th>Q027</th>\n",
       "      <th>Q047</th>\n",
       "      <th>MEDIAN</th>\n",
       "      <th>MIN</th>\n",
       "      <th>MAX</th>\n",
       "      <th>AVERAGE</th>\n",
       "      <th>STD</th>\n",
       "    </tr>\n",
       "  </thead>\n",
       "  <tbody>\n",
       "    <tr>\n",
       "      <th>0</th>\n",
       "      <td>73ff9fcc02f0a99919906c942c2e1a1042cdcf98</td>\n",
       "      <td>41</td>\n",
       "      <td>PR</td>\n",
       "      <td>22</td>\n",
       "      <td>F</td>\n",
       "      <td>3</td>\n",
       "      <td>1</td>\n",
       "      <td>1</td>\n",
       "      <td>5</td>\n",
       "      <td>1</td>\n",
       "      <td>...</td>\n",
       "      <td>A</td>\n",
       "      <td>A</td>\n",
       "      <td>C</td>\n",
       "      <td>C</td>\n",
       "      <td>A</td>\n",
       "      <td>437.65</td>\n",
       "      <td>420.0</td>\n",
       "      <td>464.8</td>\n",
       "      <td>440.025</td>\n",
       "      <td>16.541822</td>\n",
       "    </tr>\n",
       "    <tr>\n",
       "      <th>1</th>\n",
       "      <td>71a95f9f1b91a82c65ad94abbdf9f54e6066f968</td>\n",
       "      <td>21</td>\n",
       "      <td>MA</td>\n",
       "      <td>26</td>\n",
       "      <td>F</td>\n",
       "      <td>3</td>\n",
       "      <td>1</td>\n",
       "      <td>1</td>\n",
       "      <td>8</td>\n",
       "      <td>1</td>\n",
       "      <td>...</td>\n",
       "      <td>B</td>\n",
       "      <td>B</td>\n",
       "      <td>B</td>\n",
       "      <td>F</td>\n",
       "      <td>A</td>\n",
       "      <td>519.55</td>\n",
       "      <td>391.1</td>\n",
       "      <td>580.0</td>\n",
       "      <td>502.550</td>\n",
       "      <td>71.792078</td>\n",
       "    </tr>\n",
       "    <tr>\n",
       "      <th>2</th>\n",
       "      <td>b38a03232f43b11c9d0788abaf060f7366053b6d</td>\n",
       "      <td>23</td>\n",
       "      <td>CE</td>\n",
       "      <td>21</td>\n",
       "      <td>M</td>\n",
       "      <td>1</td>\n",
       "      <td>1</td>\n",
       "      <td>2</td>\n",
       "      <td>0</td>\n",
       "      <td>2</td>\n",
       "      <td>...</td>\n",
       "      <td>B</td>\n",
       "      <td>B</td>\n",
       "      <td>A</td>\n",
       "      <td>NaN</td>\n",
       "      <td>A</td>\n",
       "      <td>604.75</td>\n",
       "      <td>320.0</td>\n",
       "      <td>622.7</td>\n",
       "      <td>538.050</td>\n",
       "      <td>126.259505</td>\n",
       "    </tr>\n",
       "    <tr>\n",
       "      <th>3</th>\n",
       "      <td>70b682d9a3636be23f6120fa9d6b164eb3c6002d</td>\n",
       "      <td>15</td>\n",
       "      <td>PA</td>\n",
       "      <td>27</td>\n",
       "      <td>F</td>\n",
       "      <td>3</td>\n",
       "      <td>1</td>\n",
       "      <td>1</td>\n",
       "      <td>8</td>\n",
       "      <td>1</td>\n",
       "      <td>...</td>\n",
       "      <td>B</td>\n",
       "      <td>B</td>\n",
       "      <td>A</td>\n",
       "      <td>NaN</td>\n",
       "      <td>A</td>\n",
       "      <td>NaN</td>\n",
       "      <td>NaN</td>\n",
       "      <td>NaN</td>\n",
       "      <td>NaN</td>\n",
       "      <td>NaN</td>\n",
       "    </tr>\n",
       "    <tr>\n",
       "      <th>4</th>\n",
       "      <td>715494628a50142ce8cb17191cfe6d0f3cae0934</td>\n",
       "      <td>41</td>\n",
       "      <td>PR</td>\n",
       "      <td>18</td>\n",
       "      <td>M</td>\n",
       "      <td>1</td>\n",
       "      <td>1</td>\n",
       "      <td>2</td>\n",
       "      <td>0</td>\n",
       "      <td>2</td>\n",
       "      <td>...</td>\n",
       "      <td>C</td>\n",
       "      <td>B</td>\n",
       "      <td>A</td>\n",
       "      <td>NaN</td>\n",
       "      <td>A</td>\n",
       "      <td>532.00</td>\n",
       "      <td>320.0</td>\n",
       "      <td>592.9</td>\n",
       "      <td>494.225</td>\n",
       "      <td>107.296001</td>\n",
       "    </tr>\n",
       "  </tbody>\n",
       "</table>\n",
       "<p>5 rows × 52 columns</p>\n",
       "</div>"
      ],
      "text/plain": [
       "                               NU_INSCRICAO  CO_UF_RESIDENCIA  \\\n",
       "0  73ff9fcc02f0a99919906c942c2e1a1042cdcf98                41   \n",
       "1  71a95f9f1b91a82c65ad94abbdf9f54e6066f968                21   \n",
       "2  b38a03232f43b11c9d0788abaf060f7366053b6d                23   \n",
       "3  70b682d9a3636be23f6120fa9d6b164eb3c6002d                15   \n",
       "4  715494628a50142ce8cb17191cfe6d0f3cae0934                41   \n",
       "\n",
       "  SG_UF_RESIDENCIA  NU_IDADE TP_SEXO  TP_COR_RACA  TP_NACIONALIDADE  \\\n",
       "0               PR        22       F            3                 1   \n",
       "1               MA        26       F            3                 1   \n",
       "2               CE        21       M            1                 1   \n",
       "3               PA        27       F            3                 1   \n",
       "4               PR        18       M            1                 1   \n",
       "\n",
       "   TP_ST_CONCLUSAO  TP_ANO_CONCLUIU  TP_ESCOLA  ...  Q024  Q025  Q026  Q027  \\\n",
       "0                1                5          1  ...     A     A     C     C   \n",
       "1                1                8          1  ...     B     B     B     F   \n",
       "2                2                0          2  ...     B     B     A   NaN   \n",
       "3                1                8          1  ...     B     B     A   NaN   \n",
       "4                2                0          2  ...     C     B     A   NaN   \n",
       "\n",
       "   Q047  MEDIAN    MIN    MAX  AVERAGE         STD  \n",
       "0     A  437.65  420.0  464.8  440.025   16.541822  \n",
       "1     A  519.55  391.1  580.0  502.550   71.792078  \n",
       "2     A  604.75  320.0  622.7  538.050  126.259505  \n",
       "3     A     NaN    NaN    NaN      NaN         NaN  \n",
       "4     A  532.00  320.0  592.9  494.225  107.296001  \n",
       "\n",
       "[5 rows x 52 columns]"
      ]
     },
     "execution_count": 45,
     "metadata": {},
     "output_type": "execute_result"
    }
   ],
   "source": [
    "#Adcionando estatísticas básicas como colunas\n",
    "colunas = ['NU_NOTA_CN','NU_NOTA_CH','NU_NOTA_LC','NU_NOTA_REDACAO']\n",
    "\n",
    "dados_desafio['MEDIAN']  = dados_desafio[colunas].apply(np.median, axis=1)\n",
    "dados_desafio['MIN']     = dados_desafio[colunas].apply(np.min, axis=1)\n",
    "dados_desafio['MAX']     = dados_desafio[colunas].apply(np.max, axis=1)\n",
    "dados_desafio['AVERAGE'] = dados_desafio[colunas].apply(np.average, axis=1)\n",
    "dados_desafio['STD']     = dados_desafio[colunas].apply(np.std, axis=1)\n",
    "\n",
    "dados_desafio.head()"
   ]
  },
  {
   "cell_type": "code",
   "execution_count": 46,
   "metadata": {},
   "outputs": [
    {
     "data": {
      "text/plain": [
       "((4576, 52), (4576, 52))"
      ]
     },
     "execution_count": 46,
     "metadata": {},
     "output_type": "execute_result"
    }
   ],
   "source": [
    "#Removendo NAs\n",
    "dados_des = dados_desafio.replace(0, np.NaN).dropna(how='all').fillna(0)\n",
    "dados_des.shape, dados_desafio.shape"
   ]
  },
  {
   "cell_type": "code",
   "execution_count": 47,
   "metadata": {},
   "outputs": [
    {
     "data": {
      "text/plain": [
       "(4576, 9)"
      ]
     },
     "execution_count": 47,
     "metadata": {},
     "output_type": "execute_result"
    }
   ],
   "source": [
    "#Verificando e transformando em numpy\n",
    "features = ['NU_NOTA_CN','NU_NOTA_CH','NU_NOTA_LC', 'NU_NOTA_REDACAO','MEDIAN', 'MIN', 'MAX',\n",
    "       'AVERAGE', 'STD']\n",
    "X_val= dados_des[features].to_numpy()\n",
    "X_val.shape"
   ]
  },
  {
   "cell_type": "markdown",
   "metadata": {},
   "source": [
    "**Utilização do modelo gerado na Parte1 nos dados de teste do desafio**"
   ]
  },
  {
   "cell_type": "code",
   "execution_count": 48,
   "metadata": {},
   "outputs": [
    {
     "data": {
      "text/plain": [
       "(4576,)"
      ]
     },
     "execution_count": 48,
     "metadata": {},
     "output_type": "execute_result"
    }
   ],
   "source": [
    "test_preds = final_model.predict(X_val)\n",
    "test_preds.shape\n",
    "\n",
    "\n"
   ]
  },
  {
   "cell_type": "markdown",
   "metadata": {},
   "source": [
    "**Geração do CSV file para upload na página do desafio**"
   ]
  },
  {
   "cell_type": "code",
   "execution_count": 49,
   "metadata": {},
   "outputs": [],
   "source": [
    "#Gerando o output requerido para submissão do desafio\n",
    "output = pd.DataFrame({'NU_INSCRICAO': dados_des.NU_INSCRICAO,\n",
    "                       'NU_NOTA_MT': test_preds})\n",
    "output.to_csv('answer.csv', index=False)"
   ]
  },
  {
   "cell_type": "code",
   "execution_count": 50,
   "metadata": {},
   "outputs": [
    {
     "data": {
      "text/plain": [
       "array([426.47348837, 442.53123644, 687.2375    , ..., 421.35      ,\n",
       "       442.53123644,   0.        ])"
      ]
     },
     "execution_count": 50,
     "metadata": {},
     "output_type": "execute_result"
    }
   ],
   "source": [
    "#verificando o resultado\n",
    "test_preds"
   ]
  },
  {
   "cell_type": "markdown",
   "metadata": {},
   "source": [
    "### Outros teste feitos com a finalidade comparar os resultados do modelo gerado na Parte 1"
   ]
  },
  {
   "cell_type": "code",
   "execution_count": 51,
   "metadata": {},
   "outputs": [
    {
     "name": "stdout",
     "output_type": "stream",
     "text": [
      "14497.13384707797\n",
      "84.7659705894299\n",
      "-1.1216614027610699e+30\n"
     ]
    }
   ],
   "source": [
    "#Exemplo de classificação com Dummy\n",
    "from sklearn.dummy import DummyRegressor\n",
    "\n",
    "\n",
    "modelo_dummy = DummyRegressor()\n",
    "modelo_dummy.fit(train_x, train_y)\n",
    "dummy_predicoes = modelo_dummy.predict(test_x)\n",
    "\n",
    "\n",
    "print(mean_squared_error(test_y, dummy_predicoes))\n",
    "print(mean_absolute_error(test_y, dummy_predicoes))\n",
    "print(r2_score(dummy_predicoes , test_y))\n"
   ]
  },
  {
   "cell_type": "code",
   "execution_count": 52,
   "metadata": {},
   "outputs": [
    {
     "name": "stderr",
     "output_type": "stream",
     "text": [
      "c:\\users\\matheus\\appdata\\local\\programs\\python\\python35\\lib\\site-packages\\ipykernel_launcher.py:5: DataConversionWarning: A column-vector y was passed when a 1d array was expected. Please change the shape of y to (n_samples,), for example using ravel().\n",
      "  \"\"\"\n"
     ]
    },
    {
     "name": "stdout",
     "output_type": "stream",
     "text": [
      "5868.385320962301\n",
      "59.9470589656839\n",
      "0.39928085979055405\n"
     ]
    }
   ],
   "source": [
    "#teste rápido com ramdom forests sem otimizar parâmetros\n",
    "from sklearn.ensemble import RandomForestRegressor\n",
    "rf_model = RandomForestRegressor()\n",
    "\n",
    "# fit your model\n",
    "rf_model.fit(train_x, train_y)\n",
    "\n",
    "# Calculate the mean absolute error of your Random Forest model on the validation data\n",
    "rf_val_predictions = rf_model.predict(test_x)\n",
    "\n",
    "print(mean_squared_error(test_y, rf_val_predictions))\n",
    "print(mean_absolute_error(test_y, rf_val_predictions))\n",
    "print(r2_score(rf_val_predictions , test_y))"
   ]
  },
  {
   "cell_type": "code",
   "execution_count": 53,
   "metadata": {},
   "outputs": [
    {
     "data": {
      "text/plain": [
       "(4576, 52)"
      ]
     },
     "execution_count": 53,
     "metadata": {},
     "output_type": "execute_result"
    }
   ],
   "source": [
    "dados_desafio.shape"
   ]
  },
  {
   "cell_type": "code",
   "execution_count": null,
   "metadata": {},
   "outputs": [],
   "source": []
  }
 ],
 "metadata": {
  "kernelspec": {
   "display_name": "Python 3",
   "language": "python",
   "name": "python3"
  },
  "language_info": {
   "codemirror_mode": {
    "name": "ipython",
    "version": 3
   },
   "file_extension": ".py",
   "mimetype": "text/x-python",
   "name": "python",
   "nbconvert_exporter": "python",
   "pygments_lexer": "ipython3",
   "version": "3.5.2"
  }
 },
 "nbformat": 4,
 "nbformat_minor": 4
}
